{
  "nbformat": 4,
  "nbformat_minor": 0,
  "metadata": {
    "colab": {
      "provenance": []
    },
    "kernelspec": {
      "name": "python3",
      "display_name": "Python 3"
    },
    "language_info": {
      "name": "python"
    }
  },
  "cells": [
    {
      "cell_type": "markdown",
      "source": [
        "# Amazon Product Review Data Analysis Project\n",
        "This notebook performs full data cleaning, EDA, and visualization."
      ],
      "metadata": {
        "id": "ABBNGOfEnhRR"
      }
    },
    {
      "cell_type": "code",
      "execution_count": 1,
      "metadata": {
        "id": "bouEBR9YngNW"
      },
      "outputs": [],
      "source": [
        "import os\n",
        "import pandas as pd\n",
        "import numpy as np\n",
        "import matplotlib.pyplot as plt\n",
        "from textwrap import dedent\n",
        "from zipfile import ZipFile"
      ]
    },
    {
      "cell_type": "code",
      "source": [
        "# 1. Load data\n",
        "df = pd.read_csv('/content/amazon.csv', dtype=str)  # read everything as str initially to inspect"
      ],
      "metadata": {
        "id": "Be96R8AEnomd"
      },
      "execution_count": 4,
      "outputs": []
    },
    {
      "cell_type": "code",
      "source": [
        "# Save original snapshot\n",
        "df.head(3).to_csv(os.path.join('/content', \"original_head_snapshot.csv\"), index=False)"
      ],
      "metadata": {
        "id": "Pdc2uAvqn5wU"
      },
      "execution_count": 6,
      "outputs": []
    },
    {
      "cell_type": "code",
      "source": [
        "# Basic info\n",
        "orig_shape = df.shape\n",
        "cols = list(df.columns)"
      ],
      "metadata": {
        "id": "Kh5nd7kGn9P2"
      },
      "execution_count": 7,
      "outputs": []
    },
    {
      "cell_type": "code",
      "source": [
        "# 2. Initial cleaning & type conversions\n",
        "df = df.rename(columns=lambda c: c.strip())"
      ],
      "metadata": {
        "id": "A7cpYpN2opRo"
      },
      "execution_count": 8,
      "outputs": []
    },
    {
      "cell_type": "code",
      "source": [
        "# Strip whitespace from string columns\n",
        "df = df.applymap(lambda x: x.strip() if isinstance(x, str) else x)"
      ],
      "metadata": {
        "colab": {
          "base_uri": "https://localhost:8080/"
        },
        "id": "SDy7B3qEotX2",
        "outputId": "7ed57b4e-dee2-42fe-9ea1-be82bb245240"
      },
      "execution_count": 9,
      "outputs": [
        {
          "output_type": "stream",
          "name": "stderr",
          "text": [
            "/tmp/ipython-input-1092928125.py:2: FutureWarning: DataFrame.applymap has been deprecated. Use DataFrame.map instead.\n",
            "  df = df.applymap(lambda x: x.strip() if isinstance(x, str) else x)\n"
          ]
        }
      ]
    },
    {
      "cell_type": "code",
      "source": [
        "# Convert numeric columns that are known\n",
        "def to_float_column(s):\n",
        "    if s is None:\n",
        "        return None\n",
        "    s = s.replace('৳', '').replace('$', '').replace(',', '').replace('%','').strip()\n",
        "    try:\n",
        "        return float(s)\n",
        "    except:\n",
        "        return np.nan\n",
        "\n",
        "data = df.copy()"
      ],
      "metadata": {
        "id": "xMtWEjP0ow7t"
      },
      "execution_count": 10,
      "outputs": []
    },
    {
      "cell_type": "code",
      "source": [
        "for col in [\"discounted_price\",\"actual_price\",\"discount_percentage\",\"rating\",\"rating_count\"]:\n",
        "    if col in data.columns:\n",
        "        if col == \"rating_count\":\n",
        "            cleaned = data[col].str.replace(r'[^0-9]', '', regex=True)\n",
        "            data[col+'_num'] = pd.to_numeric(cleaned, errors='coerce').astype('Int64')\n",
        "        elif col in [\"discounted_price\",\"actual_price\"]:\n",
        "            cleaned = data[col].str.replace(r'[^0-9\\.]', '', regex=True)\n",
        "            data[col+'_num'] = pd.to_numeric(cleaned, errors='coerce')\n",
        "        elif col == \"discount_percentage\":\n",
        "            cleaned = data[col].str.replace(r'[^0-9\\.]', '', regex=True)\n",
        "            data[col+'_num'] = pd.to_numeric(cleaned, errors='coerce')\n",
        "        elif col == \"rating\":\n",
        "            cleaned = data[col].str.extract(r'([0-9]+\\.?[0-9]*)')[0]\n",
        "            data[col+'_num'] = pd.to_numeric(cleaned, errors='coerce')"
      ],
      "metadata": {
        "id": "AMBmFnCBo25f"
      },
      "execution_count": 11,
      "outputs": []
    },
    {
      "cell_type": "code",
      "source": [
        "# Standardize id columns\n",
        "for idcol in [\"product_id\",\"user_id\",\"review_id\"]:\n",
        "    if idcol in data.columns:\n",
        "        data[idcol] = data[idcol].astype(str)"
      ],
      "metadata": {
        "id": "05o8eMNGo62t"
      },
      "execution_count": 12,
      "outputs": []
    },
    {
      "cell_type": "code",
      "source": [
        "# Remove duplicates\n",
        "before_dups = data.shape[0]\n",
        "data = data.drop_duplicates()\n",
        "after_dups = data.shape[0]\n",
        "\n",
        "if \"review_id\" in data.columns:\n",
        "    before_rdup = data.shape[0]\n",
        "    data = data.drop_duplicates(subset=[\"review_id\"])\n",
        "    after_rdup = data.shape[0]"
      ],
      "metadata": {
        "id": "EPO7fWrco9pt"
      },
      "execution_count": 13,
      "outputs": []
    },
    {
      "cell_type": "code",
      "source": [
        "# Missing value summary\n",
        "missing_summary = {\n",
        "    col: int(data[col+'_num'].isna().sum()) if col+'_num' in data.columns else None\n",
        "    for col in [\"discounted_price\",\"actual_price\",\"discount_percentage\",\"rating\",\"rating_count\"]\n",
        "}"
      ],
      "metadata": {
        "id": "psBABXikpAAr"
      },
      "execution_count": 14,
      "outputs": []
    },
    {
      "cell_type": "code",
      "source": [
        "# Imputation\n",
        "if \"rating_num\" in data.columns:\n",
        "    if \"category\" in data.columns:\n",
        "        cat_mean = data.groupby(\"category\")['rating_num'].transform('mean')\n",
        "        data['rating_num'] = data['rating_num'].fillna(cat_mean)\n",
        "    overall_mean = data['rating_num'].mean()\n",
        "    data['rating_num'] = data['rating_num'].fillna(overall_mean)\n",
        "\n",
        "if \"rating_count_num\" in data.columns:\n",
        "    if \"category\" in data.columns:\n",
        "        cat_med = data.groupby(\"category\")['rating_count_num'].transform('median')\n",
        "        data['rating_count_num'] = data['rating_count_num'].fillna(cat_med)\n",
        "    overall_med = data['rating_count_num'].median()\n",
        "    data['rating_count_num'] = data['rating_count_num'].fillna(overall_med)\n",
        "    data['rating_count_num'] = data['rating_count_num'].fillna(0).astype('Int64')"
      ],
      "metadata": {
        "id": "Zy3ldLSBpCSH"
      },
      "execution_count": 16,
      "outputs": []
    },
    {
      "cell_type": "code",
      "source": [
        "# Derived columns\n",
        "if 'actual_price_num' in data.columns and 'discounted_price_num' in data.columns:\n",
        "    data['discount_amount'] = data['actual_price_num'] - data['discounted_price_num']\n",
        "    data['discount_rate_calc'] = np.where(data['actual_price_num']>0,\n",
        "                                          data['discount_amount'] / data['actual_price_num'] * 100,\n",
        "                                          np.nan)"
      ],
      "metadata": {
        "id": "uI7q3WFapEZp"
      },
      "execution_count": 17,
      "outputs": []
    },
    {
      "cell_type": "code",
      "source": [
        "# Summary stats\n",
        "summary_stats = data[['discounted_price_num','actual_price_num','discount_percentage_num','rating_num','rating_count_num']].describe(include='all')"
      ],
      "metadata": {
        "id": "kdt99eBPpLHp"
      },
      "execution_count": 18,
      "outputs": []
    },
    {
      "cell_type": "code",
      "source": [
        "# Top categories\n",
        "if 'category' in data.columns:\n",
        "    top_categories = data['category'].value_counts().head(15)\n",
        "else:\n",
        "    top_categories = pd.Series()"
      ],
      "metadata": {
        "id": "h-UmodhupO1a"
      },
      "execution_count": 19,
      "outputs": []
    },
    {
      "cell_type": "code",
      "source": [
        "# Top products by rating_count\n",
        "top_products = data.sort_values('rating_count_num', ascending=False).head(15)[['product_id','product_name','category','rating_num','rating_count_num','discounted_price_num']]"
      ],
      "metadata": {
        "id": "MeDvb7TjpXtu"
      },
      "execution_count": 20,
      "outputs": []
    },
    {
      "cell_type": "code",
      "source": [
        "# Save cleaned data\n",
        "output_dir = '/content/'\n",
        "cleaned_csv_path = os.path.join(output_dir, \"cleaned_data.csv\")\n",
        "data.to_csv(cleaned_csv_path, index=False)"
      ],
      "metadata": {
        "id": "QfEh_2i2pbnL"
      },
      "execution_count": 22,
      "outputs": []
    },
    {
      "cell_type": "code",
      "source": [
        "# Visualizations\n",
        "plt.ioff()"
      ],
      "metadata": {
        "colab": {
          "base_uri": "https://localhost:8080/"
        },
        "id": "VHQfZ4Zppjig",
        "outputId": "527c4133-aa07-4cdb-92e5-9156bcb6269a"
      },
      "execution_count": 23,
      "outputs": [
        {
          "output_type": "execute_result",
          "data": {
            "text/plain": [
              "<contextlib.ExitStack at 0x7830239210d0>"
            ]
          },
          "metadata": {},
          "execution_count": 23
        }
      ]
    },
    {
      "cell_type": "code",
      "source": [
        "# Histograms\n",
        "data['discounted_price_num'].dropna().plot(kind='hist', bins=40, title='Distribution of Discounted Price')\n",
        "plt.xlabel('Discounted Price')\n",
        "plt.savefig(os.path.join(output_dir, \"hist_discounted_price.png\"))\n",
        "plt.close()\n",
        "\n",
        "data['rating_num'].dropna().plot(kind='hist', bins=20, title='Distribution of Ratings')\n",
        "plt.xlabel('Rating (stars)')\n",
        "plt.savefig(os.path.join(output_dir, \"hist_rating.png\"))\n",
        "plt.close()"
      ],
      "metadata": {
        "id": "38qyoE_Ipp4g"
      },
      "execution_count": 24,
      "outputs": []
    },
    {
      "cell_type": "code",
      "source": [
        "# Bar chart of top categories\n",
        "if len(top_categories)>0:\n",
        "    top_categories[::-1].plot(kind='barh', title='Top Categories by Count (top 15)')\n",
        "    plt.xlabel('Count')\n",
        "    plt.savefig(os.path.join(output_dir, \"bar_top_categories.png\"))\n",
        "    plt.close()"
      ],
      "metadata": {
        "id": "QVOg7hIBpxIQ"
      },
      "execution_count": 25,
      "outputs": []
    },
    {
      "cell_type": "code",
      "source": [
        "# Scatter: rating vs rating_count\n",
        "plt.scatter(data['rating_count_num'].astype(float), data['rating_num'].astype(float), alpha=0.6, s=12)\n",
        "plt.xscale('log')\n",
        "plt.title('Rating vs Rating Count')\n",
        "plt.xlabel('Rating Count (log scale)')\n",
        "plt.ylabel('Rating')\n",
        "plt.savefig(os.path.join(output_dir, \"scatter_rating_vs_count.png\"))\n",
        "plt.close()"
      ],
      "metadata": {
        "id": "V0GHow0Ep6q5"
      },
      "execution_count": 26,
      "outputs": []
    },
    {
      "cell_type": "code",
      "source": [
        "# Boxplot by category (top 8 categories)\n",
        "if 'discounted_price_num' in data.columns and 'category' in data.columns:\n",
        "    top8 = list(top_categories.head(8).index)\n",
        "    subset = data[data['category'].isin(top8)]\n",
        "    subset.boxplot(column='discounted_price_num', by='category', rot=45)\n",
        "    plt.title('Price Distribution by Category (top 8)')\n",
        "    plt.suptitle('')\n",
        "    plt.xlabel('Category')\n",
        "    plt.ylabel('Discounted Price')\n",
        "    plt.savefig(os.path.join(output_dir, \"box_price_by_category.png\"))\n",
        "    plt.close()"
      ],
      "metadata": {
        "id": "uaF4J3Dep80_"
      },
      "execution_count": 27,
      "outputs": []
    },
    {
      "cell_type": "code",
      "source": [
        "# Scatter: discount_rate_calc vs rating\n",
        "if 'discount_rate_calc' in data.columns:\n",
        "    plt.scatter(data['discount_rate_calc'].fillna(0), data['rating_num'].astype(float), alpha=0.5, s=10)\n",
        "    plt.title('Calculated Discount Rate vs Rating')\n",
        "    plt.xlabel('Discount Rate (%)')\n",
        "    plt.ylabel('Rating')\n",
        "    plt.savefig(os.path.join(output_dir, \"scatter_discount_vs_rating.png\"))\n",
        "    plt.close()"
      ],
      "metadata": {
        "id": "CToP32i1p_Xf"
      },
      "execution_count": 28,
      "outputs": []
    },
    {
      "cell_type": "code",
      "source": [
        "# Bar chart: top products by rating count\n",
        "if top_products.shape[0]>0:\n",
        "    top_products.set_index('product_id')['rating_count_num'].plot(kind='barh', title='Top Products by Rating Count (top 15)')\n",
        "    plt.xlabel('Rating Count')\n",
        "    plt.savefig(os.path.join(output_dir, \"bar_top_products_by_rating_count.png\"))\n",
        "    plt.close()\n",
        "\n",
        "print(\"Analysis complete. Check the output_dir for results.\")"
      ],
      "metadata": {
        "colab": {
          "base_uri": "https://localhost:8080/"
        },
        "id": "JeVcGGqEqCKZ",
        "outputId": "0b3c902b-a000-4edf-d7c6-43095ab250ef"
      },
      "execution_count": 29,
      "outputs": [
        {
          "output_type": "stream",
          "name": "stdout",
          "text": [
            "Analysis complete. Check the output_dir for results.\n"
          ]
        }
      ]
    },
    {
      "cell_type": "code",
      "source": [],
      "metadata": {
        "id": "qleGQSvlqFsx"
      },
      "execution_count": null,
      "outputs": []
    }
  ]
}